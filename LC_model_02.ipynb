{
 "cells": [
  {
   "cell_type": "code",
   "execution_count": 1,
   "id": "3a31fff6",
   "metadata": {},
   "outputs": [],
   "source": [
    "import numpy as np\n",
    "import pandas as pd\n",
    "import matplotlib.pyplot as plt\n",
    "import seaborn as sns\n",
    "from datetime import date\n",
    "from jugaad_data.nse import stock_df\n",
    "from sklearn.preprocessing import MinMaxScaler"
   ]
  },
  {
   "cell_type": "code",
   "execution_count": 2,
   "id": "612bce55",
   "metadata": {},
   "outputs": [],
   "source": [
    "df = stock_df(symbol=\"SBIN\", from_date=date(2015,1,1),to_date=date(2020,1,30), series=\"EQ\")"
   ]
  },
  {
   "cell_type": "code",
   "execution_count": 3,
   "id": "ee052085",
   "metadata": {},
   "outputs": [
    {
     "data": {
      "text/html": [
       "<div>\n",
       "<style scoped>\n",
       "    .dataframe tbody tr th:only-of-type {\n",
       "        vertical-align: middle;\n",
       "    }\n",
       "\n",
       "    .dataframe tbody tr th {\n",
       "        vertical-align: top;\n",
       "    }\n",
       "\n",
       "    .dataframe thead th {\n",
       "        text-align: right;\n",
       "    }\n",
       "</style>\n",
       "<table border=\"1\" class=\"dataframe\">\n",
       "  <thead>\n",
       "    <tr style=\"text-align: right;\">\n",
       "      <th></th>\n",
       "      <th>DATE</th>\n",
       "      <th>SERIES</th>\n",
       "      <th>OPEN</th>\n",
       "      <th>HIGH</th>\n",
       "      <th>LOW</th>\n",
       "      <th>PREV. CLOSE</th>\n",
       "      <th>LTP</th>\n",
       "      <th>CLOSE</th>\n",
       "      <th>VWAP</th>\n",
       "      <th>52W H</th>\n",
       "      <th>52W L</th>\n",
       "      <th>VOLUME</th>\n",
       "      <th>VALUE</th>\n",
       "      <th>NO OF TRADES</th>\n",
       "      <th>SYMBOL</th>\n",
       "    </tr>\n",
       "  </thead>\n",
       "  <tbody>\n",
       "    <tr>\n",
       "      <th>0</th>\n",
       "      <td>2020-01-30</td>\n",
       "      <td>EQ</td>\n",
       "      <td>316.75</td>\n",
       "      <td>316.75</td>\n",
       "      <td>305.65</td>\n",
       "      <td>316.45</td>\n",
       "      <td>310.00</td>\n",
       "      <td>310.70</td>\n",
       "      <td>311.18</td>\n",
       "      <td>373.8</td>\n",
       "      <td>244.35</td>\n",
       "      <td>35802330</td>\n",
       "      <td>1.114102e+10</td>\n",
       "      <td>227687</td>\n",
       "      <td>SBIN</td>\n",
       "    </tr>\n",
       "    <tr>\n",
       "      <th>1</th>\n",
       "      <td>2020-01-29</td>\n",
       "      <td>EQ</td>\n",
       "      <td>317.85</td>\n",
       "      <td>319.70</td>\n",
       "      <td>315.55</td>\n",
       "      <td>315.10</td>\n",
       "      <td>316.95</td>\n",
       "      <td>316.45</td>\n",
       "      <td>317.75</td>\n",
       "      <td>373.8</td>\n",
       "      <td>244.35</td>\n",
       "      <td>23914114</td>\n",
       "      <td>7.598704e+09</td>\n",
       "      <td>143297</td>\n",
       "      <td>SBIN</td>\n",
       "    </tr>\n",
       "    <tr>\n",
       "      <th>2</th>\n",
       "      <td>2020-01-28</td>\n",
       "      <td>EQ</td>\n",
       "      <td>317.95</td>\n",
       "      <td>320.00</td>\n",
       "      <td>311.05</td>\n",
       "      <td>316.20</td>\n",
       "      <td>316.40</td>\n",
       "      <td>315.10</td>\n",
       "      <td>316.67</td>\n",
       "      <td>373.8</td>\n",
       "      <td>244.35</td>\n",
       "      <td>26488426</td>\n",
       "      <td>8.388015e+09</td>\n",
       "      <td>173879</td>\n",
       "      <td>SBIN</td>\n",
       "    </tr>\n",
       "    <tr>\n",
       "      <th>3</th>\n",
       "      <td>2020-01-27</td>\n",
       "      <td>EQ</td>\n",
       "      <td>320.90</td>\n",
       "      <td>322.00</td>\n",
       "      <td>315.80</td>\n",
       "      <td>324.05</td>\n",
       "      <td>316.40</td>\n",
       "      <td>316.20</td>\n",
       "      <td>318.82</td>\n",
       "      <td>373.8</td>\n",
       "      <td>244.35</td>\n",
       "      <td>23309355</td>\n",
       "      <td>7.431558e+09</td>\n",
       "      <td>148768</td>\n",
       "      <td>SBIN</td>\n",
       "    </tr>\n",
       "    <tr>\n",
       "      <th>4</th>\n",
       "      <td>2020-01-24</td>\n",
       "      <td>EQ</td>\n",
       "      <td>323.50</td>\n",
       "      <td>327.30</td>\n",
       "      <td>321.15</td>\n",
       "      <td>323.20</td>\n",
       "      <td>324.30</td>\n",
       "      <td>324.05</td>\n",
       "      <td>325.15</td>\n",
       "      <td>373.8</td>\n",
       "      <td>244.35</td>\n",
       "      <td>22706879</td>\n",
       "      <td>7.383247e+09</td>\n",
       "      <td>146667</td>\n",
       "      <td>SBIN</td>\n",
       "    </tr>\n",
       "  </tbody>\n",
       "</table>\n",
       "</div>"
      ],
      "text/plain": [
       "        DATE SERIES    OPEN    HIGH     LOW  PREV. CLOSE     LTP   CLOSE  \\\n",
       "0 2020-01-30     EQ  316.75  316.75  305.65       316.45  310.00  310.70   \n",
       "1 2020-01-29     EQ  317.85  319.70  315.55       315.10  316.95  316.45   \n",
       "2 2020-01-28     EQ  317.95  320.00  311.05       316.20  316.40  315.10   \n",
       "3 2020-01-27     EQ  320.90  322.00  315.80       324.05  316.40  316.20   \n",
       "4 2020-01-24     EQ  323.50  327.30  321.15       323.20  324.30  324.05   \n",
       "\n",
       "     VWAP  52W H   52W L    VOLUME         VALUE  NO OF TRADES SYMBOL  \n",
       "0  311.18  373.8  244.35  35802330  1.114102e+10        227687   SBIN  \n",
       "1  317.75  373.8  244.35  23914114  7.598704e+09        143297   SBIN  \n",
       "2  316.67  373.8  244.35  26488426  8.388015e+09        173879   SBIN  \n",
       "3  318.82  373.8  244.35  23309355  7.431558e+09        148768   SBIN  \n",
       "4  325.15  373.8  244.35  22706879  7.383247e+09        146667   SBIN  "
      ]
     },
     "execution_count": 3,
     "metadata": {},
     "output_type": "execute_result"
    }
   ],
   "source": [
    "df.head()"
   ]
  },
  {
   "cell_type": "code",
   "execution_count": 5,
   "id": "7e1ed84f",
   "metadata": {},
   "outputs": [],
   "source": [
    "stockprices = df[['DATE', 'SYMBOL', 'OPEN', 'PREV. CLOSE', 'LOW', 'HIGH', 'VOLUME']]"
   ]
  },
  {
   "cell_type": "code",
   "execution_count": 7,
   "id": "3a40a800",
   "metadata": {},
   "outputs": [
    {
     "name": "stdout",
     "output_type": "stream",
     "text": [
      "train_size: 1000\n",
      "test_size: 250\n"
     ]
    }
   ],
   "source": [
    "test_ratio = 0.2\n",
    "training_ratio = 1 - test_ratio\n",
    "\n",
    "train_size = int(training_ratio * len(stockprices))\n",
    "test_size = int(test_ratio * len(stockprices))\n",
    "print(f\"train_size: {train_size}\")\n",
    "print(f\"test_size: {test_size}\")\n",
    "\n",
    "train = stockprices[:train_size][[\"PREV. CLOSE\"]]\n",
    "test = stockprices[train_size:][[\"PREV. CLOSE\"]]"
   ]
  },
  {
   "cell_type": "code",
   "execution_count": 17,
   "id": "a6959682",
   "metadata": {},
   "outputs": [],
   "source": [
    "def plotter(code):\n",
    "    global closing_stock , opening_stock\n",
    "    \n",
    "    #Opening Price Plot\n",
    "    \n",
    "    plt.subplot(2,1,1)\n",
    "    company = df[df['SYMBOL'] == code]\n",
    "    company = company['OPEN'].values.astype('float32')\n",
    "    company = company.reshape(-1,1)\n",
    "    opening_stock = company\n",
    "    \n",
    "    plt.grid(True)\n",
    "    plt.xlabel('Time')\n",
    "    plt.ylabel(code + '  Open stock prices')\n",
    "    plt.title('Price X Time' + code)\n",
    "    plt.plot(company,'g')\n",
    "    plt.show()\n",
    "    \n",
    "    #Closing Price Plot\n",
    "    plt.subplot(2,1,2)\n",
    "    company_close = df[df['SYMBOL'] == code]\n",
    "    company_close = company_close['CLOSE'].values.astype('float32')\n",
    "    company_close = company_close.reshape(-1,1)\n",
    "    closing_stock = company_close\n",
    "    \n",
    "    plt.grid(True)\n",
    "    plt.xlabel('Time')\n",
    "    plt.ylabel(code + '  Close Stock Prices')\n",
    "    plt.title('Price X Time for  '+ code)\n",
    "    plt.plot(company_close,'b')\n",
    "    plt.show()\n",
    "    "
   ]
  },
  {
   "cell_type": "code",
   "execution_count": 18,
   "id": "7a428e55",
   "metadata": {},
   "outputs": [
    {
     "data": {
      "image/png": "[encoded data removed]",
      "text/plain": [
       "<Figure size 640x480 with 1 Axes>"
      ]
     },
     "metadata": {},
     "output_type": "display_data"
    },
    {
     "data": {
      "image/png": "[encoded data removed]",
      "text/plain": [
       "<Figure size 640x480 with 1 Axes>"
      ]
     },
     "metadata": {},
     "output_type": "display_data"
    }
   ],
   "source": [
    "plotter('SBIN')"
   ]
  },
  {
   "cell_type": "code",
   "execution_count": 19,
   "id": "a1eb1b41",
   "metadata": {},
   "outputs": [
    {
     "data": {
      "text/plain": [
       "array([316.45, 315.1 , 316.2 , ..., 315.25, 314.  , 311.85])"
      ]
     },
     "execution_count": 19,
     "metadata": {},
     "output_type": "execute_result"
    }
   ],
   "source": [
    "stocks = np.array(data[data['SYMBOL'].isin(['SBIN'])]['PREV. CLOSE'])\n",
    "\n",
    "stocks"
   ]
  },
  {
   "cell_type": "code",
   "execution_count": 20,
   "id": "9663ec18",
   "metadata": {},
   "outputs": [
    {
     "data": {
      "text/plain": [
       "(1251, 1)"
      ]
     },
     "execution_count": 20,
     "metadata": {},
     "output_type": "execute_result"
    }
   ],
   "source": [
    "stocks = stocks.reshape(-1,1)\n",
    "stocks.shape"
   ]
  },
  {
   "cell_type": "code",
   "execution_count": 21,
   "id": "89ba9eb9",
   "metadata": {},
   "outputs": [
    {
     "data": {
      "text/plain": [
       "array([[0.74637353],\n",
       "       [0.74025385],\n",
       "       [0.74524025],\n",
       "       ...,\n",
       "       [0.74093382],\n",
       "       [0.73526745],\n",
       "       [0.72552131]])"
      ]
     },
     "execution_count": 21,
     "metadata": {},
     "output_type": "execute_result"
    }
   ],
   "source": [
    "mms = MinMaxScaler(feature_range=(0,1))\n",
    "stocks = mms.fit_transform(stocks)\n",
    "stocks"
   ]
  },
  {
   "cell_type": "code",
   "execution_count": 23,
   "id": "6e4f6f9a",
   "metadata": {},
   "outputs": [
    {
     "data": {
      "text/plain": [
       "1000"
      ]
     },
     "execution_count": 23,
     "metadata": {},
     "output_type": "execute_result"
    }
   ],
   "source": [
    "train_len = int(len(stocks) * 0.8)\n",
    "train_len"
   ]
  },
  {
   "cell_type": "code",
   "execution_count": 24,
   "id": "0573d99d",
   "metadata": {},
   "outputs": [
    {
     "data": {
      "text/plain": [
       "251"
      ]
     },
     "execution_count": 24,
     "metadata": {},
     "output_type": "execute_result"
    }
   ],
   "source": [
    "test_len = len(stocks) - train_len\n",
    "test_len"
   ]
  },
  {
   "cell_type": "code",
   "execution_count": 25,
   "id": "00de6942",
   "metadata": {},
   "outputs": [
    {
     "name": "stdout",
     "output_type": "stream",
     "text": [
      "(1000, 1)\n"
     ]
    }
   ],
   "source": [
    "train = stocks[0:train_len]\n",
    "print(train.shape)"
   ]
  },
  {
   "cell_type": "code",
   "execution_count": 26,
   "id": "b1889093",
   "metadata": {},
   "outputs": [
    {
     "name": "stdout",
     "output_type": "stream",
     "text": [
      "(251, 1)\n"
     ]
    }
   ],
   "source": [
    "test = stocks[train_len:]\n",
    "print(test.shape)"
   ]
  },
  {
   "cell_type": "code",
   "execution_count": 27,
   "id": "84f259db",
   "metadata": {},
   "outputs": [],
   "source": [
    "def process_data(data , n_features):\n",
    "    dataX , dataY = [],[]\n",
    "    for i in range(len(data) - n_features):\n",
    "        a = data[i : (i + n_features),0]\n",
    "        dataX.append(a)\n",
    "        dataY.append(data[i + n_features,0 ])\n",
    "    return np.array(dataX) , np.array(dataY)"
   ]
  },
  {
   "cell_type": "code",
   "execution_count": 28,
   "id": "f6143a70",
   "metadata": {},
   "outputs": [
    {
     "name": "stdout",
     "output_type": "stream",
     "text": [
      "(995, 5) (995,)\n"
     ]
    }
   ],
   "source": [
    "n_features = 5\n",
    "trainX , trainY = process_data(train , n_features)\n",
    "print(trainX.shape , trainY.shape)"
   ]
  },
  {
   "cell_type": "code",
   "execution_count": 29,
   "id": "7ebf67d5",
   "metadata": {},
   "outputs": [
    {
     "name": "stdout",
     "output_type": "stream",
     "text": [
      "(246, 5) (246,)\n"
     ]
    }
   ],
   "source": [
    "testX , testY = process_data(test , n_features)\n",
    "print(testX.shape , testY.shape)"
   ]
  },
  {
   "cell_type": "code",
   "execution_count": 30,
   "id": "6ab8420a",
   "metadata": {},
   "outputs": [
    {
     "name": "stdout",
     "output_type": "stream",
     "text": [
      "(1246, 5) (1246,)\n"
     ]
    }
   ],
   "source": [
    "stocksX, stocksY = process_data(stocks, n_features)\n",
    "print (stocksX.shape , stocksY.shape)"
   ]
  },
  {
   "cell_type": "code",
   "execution_count": 31,
   "id": "8fb8c726",
   "metadata": {},
   "outputs": [],
   "source": [
    "def calculate_rmse(y_true, y_pred):\n",
    "    rmse = np.sqrt(np.mean((y_true - y_pred) ** 2))\n",
    "    return rmse"
   ]
  },
  {
   "cell_type": "code",
   "execution_count": 32,
   "id": "9ed3f4de",
   "metadata": {},
   "outputs": [],
   "source": [
    "def calculate_mape(y_true, y_pred):\n",
    "#Mean Absolute Percentage Error (MAPE) %\n",
    "    y_pred, y_true = np.array(y_pred), np.array(y_true)\n",
    "    mape = np.mean(np.abs((y_true - y_pred) / y_true)) * 100\n",
    "    return mape"
   ]
  },
  {
   "cell_type": "code",
   "execution_count": 33,
   "id": "debda4fc",
   "metadata": {},
   "outputs": [],
   "source": [
    "def calculate_perf_metrics(var):\n",
    "    rmse = calculate_rmse(\n",
    "        np.array(stockprices[train_size:][\"Close\"]),\n",
    "        np.array(stockprices[train_size:][var]),\n",
    "    )\n",
    "    mape = calculate_mape(\n",
    "        np.array(stockprices[train_size:][\"Close\"]),\n",
    "        np.array(stockprices[train_size:][var]),\n",
    "    )\n",
    "    run[\"RMSE\"] = rmse\n",
    "    run[\"MAPE (%)\"] = mape\n",
    "\n",
    "    return rmse, mape"
   ]
  },
  {
   "cell_type": "code",
   "execution_count": null,
   "id": "889bea62",
   "metadata": {},
   "outputs": [],
   "source": []
  }
 ],
 "metadata": {
  "kernelspec": {
   "display_name": "Python 3 (ipykernel)",
   "language": "python",
   "name": "python3"
  },
  "language_info": {
   "codemirror_mode": {
    "name": "ipython",
    "version": 3
   },
   "file_extension": ".py",
   "mimetype": "text/x-python",
   "name": "python",
   "nbconvert_exporter": "python",
   "pygments_lexer": "ipython3",
   "version": "3.10.13"
  }
 },
 "nbformat": 4,
 "nbformat_minor": 5
}
